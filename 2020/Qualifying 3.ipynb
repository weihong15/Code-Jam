{
 "cells": [
  {
   "cell_type": "code",
   "execution_count": 25,
   "metadata": {
    "scrolled": true
   },
   "outputs": [],
   "source": [
    "st = [\"J\",\"C\"]"
   ]
  },
  {
   "cell_type": "code",
   "execution_count": 27,
   "metadata": {},
   "outputs": [
    {
     "data": {
      "text/plain": [
       "'JC'"
      ]
     },
     "execution_count": 27,
     "metadata": {},
     "output_type": "execute_result"
    }
   ],
   "source": [
    "\"\".join(st)"
   ]
  },
  {
   "cell_type": "code",
   "execution_count": 29,
   "metadata": {},
   "outputs": [
    {
     "name": "stdout",
     "output_type": "stream",
     "text": [
      "1\n",
      "5\n",
      "99 150\n",
      "1 100\n",
      "100 301\n",
      "2 5\n",
      "150 250\n",
      "Case #1: CJJCC\n"
     ]
    }
   ],
   "source": [
    "def main():\n",
    "    for i in range(1, int(input()) + 1):\n",
    "        size = int(input())\n",
    "        ls=[]\n",
    "        k=0\n",
    "        for j in range(size):\n",
    "            ls.append([int(x) for x in input().split(' ')]+[k])\n",
    "            k+=1\n",
    "        ls.sort()\n",
    "        k = sol(ls)\n",
    "        print('Case #{}: {}'.format(i, k))\n",
    "        \n",
    "def sol(ls):\n",
    "    j = 0\n",
    "    c = 0\n",
    "    st = len(ls)*[0]\n",
    "    for val in ls:\n",
    "        if val[0]>=j:\n",
    "            j=val[1]\n",
    "            st[val[2]]=\"J\"\n",
    "        elif val[0]>=c:\n",
    "            c=val[1]\n",
    "            st[val[2]]=\"C\"\n",
    "        else:\n",
    "            return \"IMPOSSIBLE\"\n",
    "    return \"\".join(st)\n",
    "\n",
    "main()"
   ]
  },
  {
   "cell_type": "code",
   "execution_count": 8,
   "metadata": {},
   "outputs": [
    {
     "data": {
      "text/plain": [
       "[[0, 1440], [2, 4], [1, 3]]"
      ]
     },
     "execution_count": 8,
     "metadata": {},
     "output_type": "execute_result"
    }
   ],
   "source": [
    "ls2"
   ]
  },
  {
   "cell_type": "code",
   "execution_count": 10,
   "metadata": {},
   "outputs": [
    {
     "data": {
      "text/plain": [
       "[[99, 150], [1, 100], [100, 301], [2, 5], [150, 250]]"
      ]
     },
     "execution_count": 10,
     "metadata": {},
     "output_type": "execute_result"
    }
   ],
   "source": [
    "ls3="
   ]
  },
  {
   "cell_type": "code",
   "execution_count": 13,
   "metadata": {},
   "outputs": [
    {
     "data": {
      "text/plain": [
       "[[1, 100], [2, 5], [99, 150], [100, 301], [150, 250]]"
      ]
     },
     "execution_count": 13,
     "metadata": {},
     "output_type": "execute_result"
    }
   ],
   "source": [
    "ls3"
   ]
  },
  {
   "cell_type": "code",
   "execution_count": 14,
   "metadata": {},
   "outputs": [],
   "source": [
    "ls4 = [[99, 150], [1, 100], [100, 301], [2, 5], [150, 250]]\n",
    "def sol(ls):\n",
    "    j = 0\n",
    "    c = 0\n",
    "    s=''\n",
    "    for val in ls:\n",
    "        if val[0]>=j:\n",
    "            j=val[1]\n",
    "            s+=\"J\"\n",
    "        elif val[0]>=c:\n",
    "            c=val[1]\n",
    "            s+=\"C\"\n",
    "        else:\n",
    "            s=\"IMPOSSIBLE\"\n",
    "            break\n",
    "    return s"
   ]
  },
  {
   "cell_type": "code",
   "execution_count": 19,
   "metadata": {},
   "outputs": [
    {
     "data": {
      "text/plain": [
       "'IMPOSSIBLE'"
      ]
     },
     "execution_count": 19,
     "metadata": {},
     "output_type": "execute_result"
    }
   ],
   "source": [
    "sol(ls2)"
   ]
  },
  {
   "cell_type": "code",
   "execution_count": 17,
   "metadata": {},
   "outputs": [
    {
     "data": {
      "text/plain": [
       "[[0, 1440], [2, 4], [1, 3]]"
      ]
     },
     "execution_count": 17,
     "metadata": {},
     "output_type": "execute_result"
    }
   ],
   "source": [
    "ls2"
   ]
  },
  {
   "cell_type": "code",
   "execution_count": 18,
   "metadata": {},
   "outputs": [],
   "source": [
    "ls2.sort()"
   ]
  },
  {
   "cell_type": "code",
   "execution_count": null,
   "metadata": {},
   "outputs": [],
   "source": []
  }
 ],
 "metadata": {
  "kernelspec": {
   "display_name": "Python 3",
   "language": "python",
   "name": "python3"
  },
  "language_info": {
   "codemirror_mode": {
    "name": "ipython",
    "version": 3
   },
   "file_extension": ".py",
   "mimetype": "text/x-python",
   "name": "python",
   "nbconvert_exporter": "python",
   "pygments_lexer": "ipython3",
   "version": "3.7.1"
  }
 },
 "nbformat": 4,
 "nbformat_minor": 2
}

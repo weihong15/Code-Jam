{
 "cells": [
  {
   "cell_type": "code",
   "execution_count": 22,
   "metadata": {},
   "outputs": [],
   "source": [
    "def main():\n",
    "    for i in range(1, int(input()) + 1):\n",
    "        size = int(input())\n",
    "        ls=[]\n",
    "        for j in range(size):\n",
    "            ls.append([int(x) for x in input().split(' ')])\n",
    "        k = sum_trace(ls,size)\n",
    "        r = repeated_rows(ls,size)\n",
    "        c = repeated_col(ls,size)\n",
    "        print('Case #{}: {} {} {}'.format(i, k,r,c))\n",
    "\n",
    "def sum_trace(ls,n):\n",
    "    tot = 0\n",
    "    for i in range(n):\n",
    "        tot+=ls[i][i]\n",
    "    return tot\n",
    "\n",
    "def repeated_rows(ls,n):\n",
    "    tot = 0\n",
    "    for row in range(n):\n",
    "        d = {}\n",
    "        for col in range(n):\n",
    "            d[ls[row][col]]=d.get(ls[row][col],0)+1\n",
    "            if(d[ls[row][col]]>1):\n",
    "                tot+=1\n",
    "                break\n",
    "    return tot\n",
    "\n",
    "def repeated_col(ls,n):\n",
    "    tot = 0\n",
    "    for col in range(n):\n",
    "        d = {}\n",
    "        for row in range(n):\n",
    "            d[ls[row][col]]=d.get(ls[row][col],0)+1\n",
    "            if(d[ls[row][col]]>1):\n",
    "                tot+=1\n",
    "                break\n",
    "    return tot\n",
    "\n",
    "main()"
   ]
  },
  {
   "cell_type": "code",
   "execution_count": 1,
   "metadata": {},
   "outputs": [],
   "source": []
  },
  {
   "cell_type": "code",
   "execution_count": 16,
   "metadata": {},
   "outputs": [],
   "source": [
    "\n",
    "        "
   ]
  },
  {
   "cell_type": "code",
   "execution_count": 23,
   "metadata": {},
   "outputs": [],
   "source": []
  },
  {
   "cell_type": "code",
   "execution_count": null,
   "metadata": {},
   "outputs": [],
   "source": [
    "d:{}"
   ]
  },
  {
   "cell_type": "code",
   "execution_count": 5,
   "metadata": {},
   "outputs": [],
   "source": [
    "dii = {}\n",
    "dii[5]=dii.get(5,0)+1"
   ]
  },
  {
   "cell_type": "code",
   "execution_count": 6,
   "metadata": {},
   "outputs": [
    {
     "data": {
      "text/plain": [
       "{5: 1}"
      ]
     },
     "execution_count": 6,
     "metadata": {},
     "output_type": "execute_result"
    }
   ],
   "source": [
    "dii"
   ]
  },
  {
   "cell_type": "code",
   "execution_count": 7,
   "metadata": {},
   "outputs": [],
   "source": [
    "ls=[[1,2,3],[4,5,6]]"
   ]
  },
  {
   "cell_type": "code",
   "execution_count": 8,
   "metadata": {},
   "outputs": [
    {
     "data": {
      "text/plain": [
       "[[1, 2, 3], [4, 5, 6]]"
      ]
     },
     "execution_count": 8,
     "metadata": {},
     "output_type": "execute_result"
    }
   ],
   "source": [
    "ls"
   ]
  },
  {
   "cell_type": "code",
   "execution_count": 10,
   "metadata": {},
   "outputs": [
    {
     "data": {
      "text/plain": [
       "6"
      ]
     },
     "execution_count": 10,
     "metadata": {},
     "output_type": "execute_result"
    }
   ],
   "source": [
    "ls[1][2]"
   ]
  },
  {
   "cell_type": "code",
   "execution_count": null,
   "metadata": {},
   "outputs": [],
   "source": []
  }
 ],
 "metadata": {
  "kernelspec": {
   "display_name": "Python 3",
   "language": "python",
   "name": "python3"
  },
  "language_info": {
   "codemirror_mode": {
    "name": "ipython",
    "version": 3
   },
   "file_extension": ".py",
   "mimetype": "text/x-python",
   "name": "python",
   "nbconvert_exporter": "python",
   "pygments_lexer": "ipython3",
   "version": "3.7.1"
  }
 },
 "nbformat": 4,
 "nbformat_minor": 2
}

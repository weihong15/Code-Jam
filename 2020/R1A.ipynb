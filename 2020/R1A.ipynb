{
 "cells": [
  {
   "cell_type": "markdown",
   "metadata": {},
   "source": [
    "3  \n",
    "1 judge  \n",
    "R*C Competitors  \n",
    "dance floor R*C grid  \n",
    "??? audience  \n",
    "each competitor 1 square, compass neighbour of competitor x is neightbour st, shares same row and column, adjacent, nothing in between, (int 0-4)  \n",
    "if d is strictly less than average of all neighbours, eliminated for that round  \n",
    "comeptition ends when no elimination  \n",
    "interest level of that round= sum of all skills levels at that round  \n",
    "interest level of competition= sum of above  \n",
    "Given skills level on first round, find the interest level of competition\n",
    "\n",
    "\n"
   ]
  },
  {
   "cell_type": "code",
   "execution_count": 100,
   "metadata": {},
   "outputs": [
    {
     "name": "stdout",
     "output_type": "stream",
     "text": [
      "4\n",
      "1 1\n",
      "15\n",
      "all done printing row: 0, col: 0, tot_val: 0, neighbours: 0\n",
      "Case #1: 15\n",
      "3 3\n",
      "1 1 1\n",
      "1 2 1\n",
      "1 1 1\n",
      "all done printing row: 0, col: 0, tot_val: 2, neighbours: 2\n",
      "all done printing row: 0, col: 1, tot_val: 4, neighbours: 3\n",
      "ELIMINATED\n",
      "all done printing row: 0, col: 2, tot_val: 2, neighbours: 2\n",
      "all done printing row: 1, col: 0, tot_val: 4, neighbours: 3\n",
      "ELIMINATED\n",
      "all done printing row: 1, col: 1, tot_val: 4, neighbours: 4\n",
      "all done printing row: 1, col: 2, tot_val: 4, neighbours: 3\n",
      "ELIMINATED\n",
      "all done printing row: 2, col: 0, tot_val: 2, neighbours: 2\n",
      "all done printing row: 2, col: 1, tot_val: 4, neighbours: 3\n",
      "ELIMINATED\n",
      "all done printing row: 2, col: 2, tot_val: 2, neighbours: 2\n",
      "all done printing row: 0, col: 0, tot_val: 2, neighbours: 2\n",
      "all done printing row: 0, col: 2, tot_val: 2, neighbours: 2\n",
      "all done printing row: 1, col: 1, tot_val: 0, neighbours: 0\n",
      "all done printing row: 2, col: 0, tot_val: 2, neighbours: 2\n",
      "all done printing row: 2, col: 2, tot_val: 2, neighbours: 2\n",
      "Case #2: 16\n",
      "1 3\n",
      "3 1 2\n",
      "all done printing row: 0, col: 0, tot_val: 1, neighbours: 1\n",
      "all done printing row: 0, col: 1, tot_val: 5, neighbours: 2\n",
      "ELIMINATED\n",
      "all done printing row: 0, col: 2, tot_val: 1, neighbours: 1\n",
      "all done printing row: 0, col: 0, tot_val: 2, neighbours: 1\n",
      "all done printing row: 0, col: 2, tot_val: 3, neighbours: 1\n",
      "ELIMINATED\n",
      "all done printing row: 0, col: 0, tot_val: 0, neighbours: 0\n",
      "Case #3: 14\n",
      "1 3\n",
      "1 2 3\n",
      "all done printing row: 0, col: 0, tot_val: 2, neighbours: 1\n",
      "ELIMINATED\n",
      "all done printing row: 0, col: 1, tot_val: 4, neighbours: 2\n",
      "all done printing row: 0, col: 2, tot_val: 2, neighbours: 1\n",
      "all done printing row: 0, col: 1, tot_val: 3, neighbours: 1\n",
      "ELIMINATED\n",
      "all done printing row: 0, col: 2, tot_val: 2, neighbours: 1\n",
      "all done printing row: 0, col: 2, tot_val: 0, neighbours: 0\n",
      "Case #4: 14\n"
     ]
    }
   ],
   "source": [
    "def main():\n",
    "    for i in range(1, int(input()) + 1):\n",
    "        R,C = [int(x) for x in input().split(' ')]\n",
    "        ls=[]\n",
    "        for j in range(R):\n",
    "            ls.append([int(x) for x in input().split(' ')])\n",
    "        k = solution(R,C,ls)\n",
    "        print('Case #{}: {}'.format(i, k))\n",
    "main()"
   ]
  },
  {
   "cell_type": "code",
   "execution_count": 84,
   "metadata": {},
   "outputs": [
    {
     "name": "stdout",
     "output_type": "stream",
     "text": [
      "1 3\n"
     ]
    }
   ],
   "source": [
    "R,C = [int(x) for x in input().split(' ')]"
   ]
  },
  {
   "cell_type": "code",
   "execution_count": 76,
   "metadata": {},
   "outputs": [],
   "source": [
    "def count_interest(ls):\n",
    "    inte = 0\n",
    "    for rows in ls:\n",
    "        for value in rows:\n",
    "            inte+=value\n",
    "    return inte"
   ]
  },
  {
   "cell_type": "code",
   "execution_count": 102,
   "metadata": {},
   "outputs": [
    {
     "data": {
      "text/plain": [
       "14"
      ]
     },
     "execution_count": 102,
     "metadata": {},
     "output_type": "execute_result"
    }
   ],
   "source": [
    "def solution(r,c,ls):\n",
    "    eliminate=[] ## append row and count\n",
    "    interest = count_interest(ls)\n",
    "    last_round_int = interest\n",
    "    while(True):\n",
    "        curr_eliminate = []\n",
    "        interest_loss = 0\n",
    "        #each round\n",
    "        for row in range(r):\n",
    "            for col in range(c):\n",
    "                if (row,col) in eliminate:\n",
    "                    continue\n",
    "                neighbours = 0\n",
    "\n",
    "                ##find up\n",
    "                tot_val = 0\n",
    "                for up in range(row-1,-1,-1):\n",
    "                    if (up,col) in eliminate:\n",
    "                        continue\n",
    "                    else:\n",
    "                        tot_val += ls[up][col]\n",
    "                        neighbours += 1\n",
    "                        break\n",
    "                #print('UP done printing row: {}, col: {}, tot_val: {}, neighbours: {}'.format(row,col,tot_val,neighbours))\n",
    "                ## find down\n",
    "                for down in range(row+1,r):\n",
    "                    if (down,col) in eliminate:\n",
    "                        continue\n",
    "                    else:\n",
    "                        tot_val += ls[down][col]\n",
    "                        neighbours += 1\n",
    "                        break\n",
    "                #print('DOWN DONE printing row: {}, col: {}, tot_val: {}, neighbours: {}'.format(row,col,tot_val,neighbours))\n",
    "                ## find left\n",
    "                for left in range(col-1,-1,-1):\n",
    "                    if (row,left) in eliminate:\n",
    "                        continue\n",
    "                    else:\n",
    "                        #print(eliminate)\n",
    "                        #print(row,left)\n",
    "                        tot_val += ls[row][left]\n",
    "                        neighbours += 1\n",
    "                        break\n",
    "                #print('left done printing row: {}, col: {}, tot_val: {}, neighbours: {}'.format(row,col,tot_val,neighbours))\n",
    "                ## find right\n",
    "                for right in range(col+1,c):\n",
    "                    if (row,right) in eliminate:\n",
    "                        continue\n",
    "                    else:\n",
    "                        tot_val += ls[row][right]\n",
    "                        neighbours += 1\n",
    "                        break\n",
    "                #print('all done printing row: {}, col: {}, tot_val: {}, neighbours: {}'.format(row,col,tot_val,neighbours))\n",
    "                if not neighbours:\n",
    "                    break #no neighbours just zao, no elimination\n",
    "                avg = tot_val/neighbours\n",
    "                if ls[row][col]<avg:\n",
    "                    #print(\"ELIMINATED\")\n",
    "                    curr_eliminate.append((row,col))\n",
    "                    interest_loss += ls[row][col]\n",
    "                    #print(interest_loss)\n",
    "        #print(curr_eliminate)\n",
    "        #Round over, see whether empty\n",
    "        if not curr_eliminate:\n",
    "            return interest\n",
    "        last_round_int -= interest_loss\n",
    "        interest += last_round_int\n",
    "        eliminate+=curr_eliminate\n",
    "        \n",
    "        \n",
    "solution(1,3,ls)    "
   ]
  },
  {
   "cell_type": "code",
   "execution_count": 85,
   "metadata": {},
   "outputs": [],
   "source": [
    "r,c = 1,3\n",
    "ls = [[3,1,2]]"
   ]
  },
  {
   "cell_type": "code",
   "execution_count": 87,
   "metadata": {},
   "outputs": [
    {
     "data": {
      "text/plain": [
       "[[3, 1, 2]]"
      ]
     },
     "execution_count": 87,
     "metadata": {},
     "output_type": "execute_result"
    }
   ],
   "source": [
    "ls"
   ]
  },
  {
   "cell_type": "code",
   "execution_count": 14,
   "metadata": {},
   "outputs": [
    {
     "name": "stdout",
     "output_type": "stream",
     "text": [
      "WTF\n"
     ]
    }
   ],
   "source": [
    "curr = None\n",
    "if curr is None:\n",
    "    print(\"WTF\")"
   ]
  },
  {
   "cell_type": "code",
   "execution_count": 60,
   "metadata": {},
   "outputs": [
    {
     "data": {
      "text/plain": [
       "True"
      ]
     },
     "execution_count": 60,
     "metadata": {},
     "output_type": "execute_result"
    }
   ],
   "source": [
    "(row,col) in curr_eliminate"
   ]
  },
  {
   "cell_type": "code",
   "execution_count": 63,
   "metadata": {},
   "outputs": [
    {
     "data": {
      "text/plain": [
       "[(1, 1), (2, 2), (0, 1)]"
      ]
     },
     "execution_count": 63,
     "metadata": {},
     "output_type": "execute_result"
    }
   ],
   "source": [
    "curr_eliminate"
   ]
  },
  {
   "cell_type": "code",
   "execution_count": 62,
   "metadata": {},
   "outputs": [],
   "source": [
    "\n",
    "curr_eliminate.append((0,1))"
   ]
  },
  {
   "cell_type": "code",
   "execution_count": 79,
   "metadata": {},
   "outputs": [],
   "source": [
    "ls=[[1, 1, 1], [1, 2, 1], [1, 1, 1]]"
   ]
  },
  {
   "cell_type": "code",
   "execution_count": 47,
   "metadata": {},
   "outputs": [
    {
     "data": {
      "text/plain": [
       "[[1, 1, 1], [1, 2, 1], [1, 1, 1]]"
      ]
     },
     "execution_count": 47,
     "metadata": {},
     "output_type": "execute_result"
    }
   ],
   "source": [
    "ls"
   ]
  },
  {
   "cell_type": "code",
   "execution_count": 35,
   "metadata": {},
   "outputs": [
    {
     "name": "stdout",
     "output_type": "stream",
     "text": [
      "printing row: 0, col: 0, tot_val: 0, neighbours: 0\n"
     ]
    }
   ],
   "source": [
    "for up in range(row-1,-1,-1):\n",
    "    if ls[up][col] in eliminate:\n",
    "        continue\n",
    "    else:\n",
    "        tot_val += ls[up][col]\n",
    "        neighbours += 1\n",
    "print('printing row: {}, col: {}, tot_val: {}, neighbours: {}'.format(row,col,tot_val,col))"
   ]
  },
  {
   "cell_type": "code",
   "execution_count": null,
   "metadata": {},
   "outputs": [],
   "source": []
  }
 ],
 "metadata": {
  "kernelspec": {
   "display_name": "Python 3",
   "language": "python",
   "name": "python3"
  },
  "language_info": {
   "codemirror_mode": {
    "name": "ipython",
    "version": 3
   },
   "file_extension": ".py",
   "mimetype": "text/x-python",
   "name": "python",
   "nbconvert_exporter": "python",
   "pygments_lexer": "ipython3",
   "version": "3.7.1"
  }
 },
 "nbformat": 4,
 "nbformat_minor": 2
}

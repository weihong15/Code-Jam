{
 "cells": [
  {
   "cell_type": "code",
   "execution_count": 4,
   "metadata": {},
   "outputs": [
    {
     "name": "stdout",
     "output_type": "stream",
     "text": [
      "3\n",
      "4\n",
      "Case #1: 2 2\n",
      "940\n",
      "Case #2: 920 20\n",
      "4444\n",
      "Case #3: 2222 2222\n"
     ]
    }
   ],
   "source": [
    "def main():\n",
    "    for i in range(1, int(input()) + 1):\n",
    "        N = input()\n",
    "        A = int(N.replace('4','2'))\n",
    "        print('Case #{}: {} {}'.format(i, A , int(N)-A))\n",
    "# neat, unfortunately i copied this solution\n",
    "main()"
   ]
  },
  {
   "cell_type": "code",
   "execution_count": null,
   "metadata": {},
   "outputs": [],
   "source": [
    "def main():\n",
    "    for i in range(1, int(input()) + 1):\n",
    "        N = input()\n",
    "        a,b = solution(N)\n",
    "        print('Case #{}: {} {}'.format(i, a,b))\n",
    "        \n",
    "def solution(n):\n",
    "    tot_digit =len(n)\n",
    "    n = int(n)\n",
    "    a = n\n",
    "    b = 0\n",
    "    tens = 0\n",
    "    while(n>0):\n",
    "        if n%10==4:\n",
    "            b += 1*10**tens\n",
    "            a -= 1*10**tens\n",
    "        n//=10\n",
    "        tens+=1\n",
    "    return a,b\n",
    "\n",
    "main()"
   ]
  },
  {
   "cell_type": "code",
   "execution_count": 5,
   "metadata": {},
   "outputs": [],
   "source": [
    "\n",
    "    "
   ]
  },
  {
   "cell_type": "code",
   "execution_count": null,
   "metadata": {},
   "outputs": [],
   "source": []
  }
 ],
 "metadata": {
  "kernelspec": {
   "display_name": "Python 3",
   "language": "python",
   "name": "python3"
  },
  "language_info": {
   "codemirror_mode": {
    "name": "ipython",
    "version": 3
   },
   "file_extension": ".py",
   "mimetype": "text/x-python",
   "name": "python",
   "nbconvert_exporter": "python",
   "pygments_lexer": "ipython3",
   "version": "3.7.1"
  }
 },
 "nbformat": 4,
 "nbformat_minor": 2
}

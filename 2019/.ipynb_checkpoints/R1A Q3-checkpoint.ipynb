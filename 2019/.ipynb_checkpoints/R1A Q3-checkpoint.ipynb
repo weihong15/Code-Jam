{
 "cells": [
  {
   "cell_type": "code",
   "execution_count": 1,
   "metadata": {},
   "outputs": [
    {
     "name": "stdout",
     "output_type": "stream",
     "text": [
      "1\n",
      "6\n",
      "CODEJAM\n",
      "JAM\n",
      "HAM\n",
      "NALAM\n",
      "HUM\n",
      "NOLOM\n"
     ]
    },
    {
     "ename": "NameError",
     "evalue": "name 'largest_subset_size' is not defined",
     "output_type": "error",
     "traceback": [
      "\u001b[1;31m---------------------------------------------------------------------------\u001b[0m",
      "\u001b[1;31mNameError\u001b[0m                                 Traceback (most recent call last)",
      "\u001b[1;32m<ipython-input-1-34bb900e5282>\u001b[0m in \u001b[0;36m<module>\u001b[1;34m\u001b[0m\n\u001b[0;32m      5\u001b[0m     \u001b[0mnum_words\u001b[0m \u001b[1;33m=\u001b[0m \u001b[0mint\u001b[0m\u001b[1;33m(\u001b[0m\u001b[0minput\u001b[0m\u001b[1;33m(\u001b[0m\u001b[1;33m)\u001b[0m\u001b[1;33m)\u001b[0m\u001b[1;33m\u001b[0m\u001b[1;33m\u001b[0m\u001b[0m\n\u001b[0;32m      6\u001b[0m     \u001b[0mwords\u001b[0m \u001b[1;33m=\u001b[0m \u001b[1;33m[\u001b[0m\u001b[0minput\u001b[0m\u001b[1;33m(\u001b[0m\u001b[1;33m)\u001b[0m \u001b[1;32mfor\u001b[0m \u001b[0m_\u001b[0m \u001b[1;32min\u001b[0m \u001b[0mrange\u001b[0m\u001b[1;33m(\u001b[0m\u001b[0mnum_words\u001b[0m\u001b[1;33m)\u001b[0m\u001b[1;33m]\u001b[0m\u001b[1;33m\u001b[0m\u001b[1;33m\u001b[0m\u001b[0m\n\u001b[1;32m----> 7\u001b[1;33m     \u001b[0mlargest\u001b[0m \u001b[1;33m=\u001b[0m \u001b[0mlargest_subset_size\u001b[0m\u001b[1;33m(\u001b[0m\u001b[0mnum_words\u001b[0m\u001b[1;33m,\u001b[0m \u001b[0mwords\u001b[0m\u001b[1;33m)\u001b[0m\u001b[1;33m\u001b[0m\u001b[1;33m\u001b[0m\u001b[0m\n\u001b[0m\u001b[0;32m      8\u001b[0m     \u001b[0mprint\u001b[0m\u001b[1;33m(\u001b[0m\u001b[1;34m'Case #{}: {}'\u001b[0m\u001b[1;33m.\u001b[0m\u001b[0mformat\u001b[0m\u001b[1;33m(\u001b[0m\u001b[0mcase\u001b[0m\u001b[1;33m,\u001b[0m \u001b[0mlargest\u001b[0m\u001b[1;33m)\u001b[0m\u001b[1;33m)\u001b[0m\u001b[1;33m\u001b[0m\u001b[1;33m\u001b[0m\u001b[0m\n",
      "\u001b[1;31mNameError\u001b[0m: name 'largest_subset_size' is not defined"
     ]
    }
   ],
   "source": [
    "from collections import defaultdict, Counter\n",
    "\n",
    "\n",
    "def largest_subset_size(N, words):\n",
    "    word_dict = defaultdict(Counter)\n",
    "    for word in words:\n",
    "        word_dict[len(word)][word] += 1\n",
    "\n",
    "    max_length = max(len(word) for word in words) ## max(word_dict)\n",
    "\n",
    "    result = 0\n",
    "    for length in range(max_length, 0, -1):\n",
    "        for (suffix, count) in word_dict[length].items():\n",
    "            if count >= 2: ##if there's two things with same suffix\n",
    "                result += 2 ##increase result\n",
    "                count -= 2 ##decrease the count of it, if there's 3 of it, count becomes 1\n",
    "            if count:\n",
    "                word_dict[length - 1][suffix[1:]] += count ##Append suffix with 1 reduced length, with new count\n",
    "        print(word_dict)\n",
    "    return result\n",
    "\n",
    "\n",
    "# I/O Code\n",
    "num_cases = int(input())\n",
    "\n",
    "for case in range(1, num_cases + 1):\n",
    "    num_words = int(input())\n",
    "    words = [input() for _ in range(num_words)]\n",
    "    largest = largest_subset_size(num_words, words)\n",
    "    print('Case #{}: {}'.format(case, largest))"
   ]
  },
  {
   "cell_type": "code",
   "execution_count": 30,
   "metadata": {},
   "outputs": [],
   "source": [
    "from collections import defaultdict, Counter\n",
    "\n",
    "\n",
    "def largest_subset_size(N, words):\n",
    "    word_dict = defaultdict(Counter)\n",
    "    for word in words:\n",
    "        word_dict[len(word)][word] += 1\n",
    "\n",
    "    max_length = max(len(word) for word in words) ## max(word_dict)\n",
    "\n",
    "    result = 0\n",
    "    for length in range(max_length, 0, -1):\n",
    "        for (suffix, count) in word_dict[length].items():\n",
    "            if count >= 2: ##if there's two things with same suffix\n",
    "                result += 2 ##increase result\n",
    "                count -= 2 ##decrease the count of it, if there's 3 of it, count becomes 1\n",
    "            if count:\n",
    "                word_dict[length - 1][suffix[1:]] += count ##Append suffix with 1 reduced length, with new count\n",
    "        print(word_dict)\n",
    "    return result"
   ]
  },
  {
   "cell_type": "code",
   "execution_count": 31,
   "metadata": {},
   "outputs": [
    {
     "name": "stdout",
     "output_type": "stream",
     "text": [
      "defaultdict(<class 'collections.Counter'>, {7: Counter({'CODEJAM': 1}), 3: Counter({'JAM': 1, 'HAM': 1, 'HUM': 1}), 5: Counter({'NALAM': 1, 'NOLOM': 1}), 6: Counter({'ODEJAM': 1})})\n",
      "defaultdict(<class 'collections.Counter'>, {7: Counter({'CODEJAM': 1}), 3: Counter({'JAM': 1, 'HAM': 1, 'HUM': 1}), 5: Counter({'NALAM': 1, 'NOLOM': 1, 'DEJAM': 1}), 6: Counter({'ODEJAM': 1})})\n",
      "defaultdict(<class 'collections.Counter'>, {7: Counter({'CODEJAM': 1}), 3: Counter({'JAM': 1, 'HAM': 1, 'HUM': 1}), 5: Counter({'NALAM': 1, 'NOLOM': 1, 'DEJAM': 1}), 6: Counter({'ODEJAM': 1}), 4: Counter({'ALAM': 1, 'OLOM': 1, 'EJAM': 1})})\n",
      "defaultdict(<class 'collections.Counter'>, {7: Counter({'CODEJAM': 1}), 3: Counter({'JAM': 2, 'HAM': 1, 'HUM': 1, 'LAM': 1, 'LOM': 1}), 5: Counter({'NALAM': 1, 'NOLOM': 1, 'DEJAM': 1}), 6: Counter({'ODEJAM': 1}), 4: Counter({'ALAM': 1, 'OLOM': 1, 'EJAM': 1})})\n",
      "defaultdict(<class 'collections.Counter'>, {7: Counter({'CODEJAM': 1}), 3: Counter({'JAM': 2, 'HAM': 1, 'HUM': 1, 'LAM': 1, 'LOM': 1}), 5: Counter({'NALAM': 1, 'NOLOM': 1, 'DEJAM': 1}), 6: Counter({'ODEJAM': 1}), 4: Counter({'ALAM': 1, 'OLOM': 1, 'EJAM': 1}), 2: Counter({'AM': 2, 'UM': 1, 'OM': 1})})\n",
      "defaultdict(<class 'collections.Counter'>, {7: Counter({'CODEJAM': 1}), 3: Counter({'JAM': 2, 'HAM': 1, 'HUM': 1, 'LAM': 1, 'LOM': 1}), 5: Counter({'NALAM': 1, 'NOLOM': 1, 'DEJAM': 1}), 6: Counter({'ODEJAM': 1}), 4: Counter({'ALAM': 1, 'OLOM': 1, 'EJAM': 1}), 2: Counter({'AM': 2, 'UM': 1, 'OM': 1}), 1: Counter({'M': 2})})\n",
      "defaultdict(<class 'collections.Counter'>, {7: Counter({'CODEJAM': 1}), 3: Counter({'JAM': 2, 'HAM': 1, 'HUM': 1, 'LAM': 1, 'LOM': 1}), 5: Counter({'NALAM': 1, 'NOLOM': 1, 'DEJAM': 1}), 6: Counter({'ODEJAM': 1}), 4: Counter({'ALAM': 1, 'OLOM': 1, 'EJAM': 1}), 2: Counter({'AM': 2, 'UM': 1, 'OM': 1}), 1: Counter({'M': 2})})\n"
     ]
    },
    {
     "data": {
      "text/plain": [
       "6"
      ]
     },
     "execution_count": 31,
     "metadata": {},
     "output_type": "execute_result"
    }
   ],
   "source": [
    "largest_subset_size(N, words)"
   ]
  },
  {
   "cell_type": "code",
   "execution_count": 7,
   "metadata": {},
   "outputs": [],
   "source": [
    "word_dict = defaultdict(Counter)"
   ]
  },
  {
   "cell_type": "code",
   "execution_count": 8,
   "metadata": {},
   "outputs": [
    {
     "data": {
      "text/plain": [
       "defaultdict(collections.Counter, {})"
      ]
     },
     "execution_count": 8,
     "metadata": {},
     "output_type": "execute_result"
    }
   ],
   "source": [
    "word_dict"
   ]
  },
  {
   "cell_type": "code",
   "execution_count": 9,
   "metadata": {},
   "outputs": [],
   "source": [
    "for word in words:\n",
    "    word_dict[len(word)][word] += 1"
   ]
  },
  {
   "cell_type": "code",
   "execution_count": 18,
   "metadata": {},
   "outputs": [
    {
     "data": {
      "text/plain": [
       "defaultdict(collections.Counter,\n",
       "            {7: Counter({'CODEJAM': 1}),\n",
       "             3: Counter({'JAM': 1, 'HAM': 1, 'HUM': 1}),\n",
       "             5: Counter({'NALAM': 1, 'NOLOM': 1})})"
      ]
     },
     "execution_count": 18,
     "metadata": {},
     "output_type": "execute_result"
    }
   ],
   "source": [
    "word_dict"
   ]
  },
  {
   "cell_type": "code",
   "execution_count": 20,
   "metadata": {},
   "outputs": [
    {
     "data": {
      "text/plain": [
       "7"
      ]
     },
     "execution_count": 20,
     "metadata": {},
     "output_type": "execute_result"
    }
   ],
   "source": [
    "result = 0\n",
    "max_length"
   ]
  },
  {
   "cell_type": "code",
   "execution_count": 29,
   "metadata": {},
   "outputs": [
    {
     "name": "stdout",
     "output_type": "stream",
     "text": [
      "dict_items([('JAM', 1), ('HAM', 1), ('HUM', 1)])\n"
     ]
    }
   ],
   "source": [
    "print(word_dict[3].items())"
   ]
  },
  {
   "cell_type": "code",
   "execution_count": null,
   "metadata": {},
   "outputs": [],
   "source": []
  }
 ],
 "metadata": {
  "kernelspec": {
   "display_name": "Python 3",
   "language": "python",
   "name": "python3"
  },
  "language_info": {
   "codemirror_mode": {
    "name": "ipython",
    "version": 3
   },
   "file_extension": ".py",
   "mimetype": "text/x-python",
   "name": "python",
   "nbconvert_exporter": "python",
   "pygments_lexer": "ipython3",
   "version": "3.7.1"
  }
 },
 "nbformat": 4,
 "nbformat_minor": 2
}

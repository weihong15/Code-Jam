{
 "cells": [
  {
   "cell_type": "code",
   "execution_count": 1,
   "metadata": {},
   "outputs": [],
   "source": [
    "#Q4\n",
    "def main():\n",
    "    for i in range(1, int(input()) + 1):\n",
    "        N,B,f = [int(s) for s in input().split(\" \")]\n",
    "        solve(N,B)\n",
    "\n",
    "def solve(n,b):\n",
    "    #getting columns of different\n",
    "    querries = [(('0'*2**i+'1'*2**i)*(n//2**(i+1)+1))[:n] for i in range(5)]\n",
    "    \n",
    "    response = []\n",
    "    for querry in querries:\n",
    "        print(querry)\n",
    "        response.append(input())\n",
    "    q_col_it = zip(*querries) ##make into columns\n",
    "    r_col_it = zip(*response) ##columns\n",
    "    response_col = next(r_col_it) ##take first column\n",
    "    bad = []\n",
    "    for i,query_col in enumerate(q_col_it): ##i is the index that is forgotten\n",
    "        if query_col==response_col:\n",
    "            response_col = next(r_col_it,None)\n",
    "        else:\n",
    "            bad.append(i)\n",
    "            \n",
    "    print(*bad) ##if bad is a list, will print it's arguement\n",
    "    input()\n",
    "\n",
    "main()"
   ]
  },
  {
   "cell_type": "code",
   "execution_count": 2,
   "metadata": {},
   "outputs": [],
   "source": [
    "querries = [(('0'*2**i+'1'*2**i)*(n//2**(i+1)+1))[:n] for i in range(5)]"
   ]
  },
  {
   "cell_type": "code",
   "execution_count": 3,
   "metadata": {},
   "outputs": [
    {
     "data": {
      "text/plain": [
       "['01010101010101010101010101010101010101010101010101',\n",
       " '00110011001100110011001100110011001100110011001100',\n",
       " '00001111000011110000111100001111000011110000111100',\n",
       " '00000000111111110000000011111111000000001111111100',\n",
       " '00000000000000001111111111111111000000000000000011']"
      ]
     },
     "execution_count": 3,
     "metadata": {},
     "output_type": "execute_result"
    }
   ],
   "source": [
    "querries"
   ]
  },
  {
   "cell_type": "code",
   "execution_count": 4,
   "metadata": {},
   "outputs": [
    {
     "data": {
      "text/plain": [
       "['0101010101010101010101010101010101010101010101010101',\n",
       " '0011001100110011001100110011001100110011001100110011',\n",
       " '00001111000011110000111100001111000011110000111100001111',\n",
       " '0000000011111111000000001111111100000000111111110000000011111111',\n",
       " '0000000000000000111111111111111100000000000000001111111111111111']"
      ]
     },
     "execution_count": 4,
     "metadata": {},
     "output_type": "execute_result"
    }
   ],
   "source": [
    "[(('0'*2**i+'1'*2**i)*(n//2**(i+1)+1)) for i in range(5)]"
   ]
  },
  {
   "cell_type": "code",
   "execution_count": 5,
   "metadata": {},
   "outputs": [
    {
     "name": "stdout",
     "output_type": "stream",
     "text": [
      "01010101010101010101010101010101010101010101010101\n",
      "101010101010101010101010101010101010101010101\n",
      "00110011001100110011001100110011001100110011001100\n",
      "011001100110011001100110011001100110011001100\n",
      "00001111000011110000111100001111000011110000111100\n",
      "111000011110000111100001111000011110000111100\n",
      "00000000111111110000000011111111000000001111111100\n",
      "000111111110000000011111111000000001111111100\n",
      "00000000000000001111111111111111000000000000000011\n",
      "000000000001111111111111111000000000000000011\n"
     ]
    }
   ],
   "source": [
    "response = []\n",
    "for querry in querries:\n",
    "    print(querry)\n",
    "    response.append(input())"
   ]
  },
  {
   "cell_type": "code",
   "execution_count": 6,
   "metadata": {},
   "outputs": [
    {
     "data": {
      "text/plain": [
       "['101010101010101010101010101010101010101010101',\n",
       " '011001100110011001100110011001100110011001100',\n",
       " '111000011110000111100001111000011110000111100',\n",
       " '000111111110000000011111111000000001111111100',\n",
       " '000000000001111111111111111000000000000000011']"
      ]
     },
     "execution_count": 6,
     "metadata": {},
     "output_type": "execute_result"
    }
   ],
   "source": [
    "response"
   ]
  },
  {
   "cell_type": "code",
   "execution_count": 27,
   "metadata": {},
   "outputs": [],
   "source": [
    "q_col_it = zip(*querries)\n",
    "r_col_it = zip(*response)\n",
    "response_col = next(r_col_it)"
   ]
  },
  {
   "cell_type": "code",
   "execution_count": 26,
   "metadata": {},
   "outputs": [
    {
     "data": {
      "text/plain": [
       "('1', '0', '1', '0', '0')"
      ]
     },
     "execution_count": 26,
     "metadata": {},
     "output_type": "execute_result"
    }
   ],
   "source": [
    "response_col"
   ]
  },
  {
   "cell_type": "code",
   "execution_count": 28,
   "metadata": {},
   "outputs": [
    {
     "name": "stdout",
     "output_type": "stream",
     "text": [
      "('0', '1', '1', '0', '0')\n",
      "('1', '1', '1', '0', '0')\n",
      "('0', '0', '0', '1', '0')\n",
      "('1', '0', '0', '1', '0')\n",
      "('0', '1', '0', '1', '0')\n",
      "('1', '1', '0', '1', '0')\n",
      "('0', '0', '1', '1', '0')\n",
      "('1', '0', '1', '1', '0')\n",
      "('0', '1', '1', '1', '0')\n",
      "('1', '1', '1', '1', '0')\n",
      "('0', '0', '0', '0', '1')\n",
      "('1', '0', '0', '0', '1')\n",
      "('0', '1', '0', '0', '1')\n",
      "('1', '1', '0', '0', '1')\n",
      "('0', '0', '1', '0', '1')\n",
      "('1', '0', '1', '0', '1')\n",
      "('0', '1', '1', '0', '1')\n",
      "('1', '1', '1', '0', '1')\n",
      "('0', '0', '0', '1', '1')\n",
      "('1', '0', '0', '1', '1')\n",
      "('0', '1', '0', '1', '1')\n",
      "('1', '1', '0', '1', '1')\n",
      "('0', '0', '1', '1', '1')\n",
      "('1', '0', '1', '1', '1')\n",
      "('0', '1', '1', '1', '1')\n",
      "('1', '1', '1', '1', '1')\n",
      "('0', '0', '0', '0', '0')\n",
      "('1', '0', '0', '0', '0')\n",
      "('0', '1', '0', '0', '0')\n",
      "('1', '1', '0', '0', '0')\n",
      "('0', '0', '1', '0', '0')\n",
      "('1', '0', '1', '0', '0')\n",
      "('0', '1', '1', '0', '0')\n",
      "('1', '1', '1', '0', '0')\n",
      "('0', '0', '0', '1', '0')\n",
      "('1', '0', '0', '1', '0')\n",
      "('0', '1', '0', '1', '0')\n",
      "('1', '1', '0', '1', '0')\n",
      "('0', '0', '1', '1', '0')\n",
      "('1', '0', '1', '1', '0')\n",
      "('0', '1', '1', '1', '0')\n",
      "('1', '1', '1', '1', '0')\n",
      "('0', '0', '0', '0', '1')\n",
      "('1', '0', '0', '0', '1')\n"
     ]
    }
   ],
   "source": [
    "for i in r_col_it:\n",
    "    print(i)"
   ]
  },
  {
   "cell_type": "code",
   "execution_count": 29,
   "metadata": {},
   "outputs": [],
   "source": [
    "ls = [1,2,3,4]"
   ]
  },
  {
   "cell_type": "code",
   "execution_count": 30,
   "metadata": {},
   "outputs": [
    {
     "name": "stdout",
     "output_type": "stream",
     "text": [
      "1 2 3 4\n"
     ]
    }
   ],
   "source": [
    "print(*ls)"
   ]
  },
  {
   "cell_type": "code",
   "execution_count": 31,
   "metadata": {},
   "outputs": [
    {
     "name": "stdout",
     "output_type": "stream",
     "text": [
      "[1, 2, 3, 4]\n"
     ]
    }
   ],
   "source": [
    "print(ls)"
   ]
  },
  {
   "cell_type": "code",
   "execution_count": null,
   "metadata": {},
   "outputs": [],
   "source": []
  }
 ],
 "metadata": {
  "kernelspec": {
   "display_name": "Python 3",
   "language": "python",
   "name": "python3"
  },
  "language_info": {
   "codemirror_mode": {
    "name": "ipython",
    "version": 3
   },
   "file_extension": ".py",
   "mimetype": "text/x-python",
   "name": "python",
   "nbconvert_exporter": "python",
   "pygments_lexer": "ipython3",
   "version": "3.7.1"
  }
 },
 "nbformat": 4,
 "nbformat_minor": 2
}

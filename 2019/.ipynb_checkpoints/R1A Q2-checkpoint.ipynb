{
 "cells": [
  {
   "cell_type": "code",
   "execution_count": null,
   "metadata": {},
   "outputs": [],
   "source": [
    "def main():\n",
    "    T,N,M = [int(s) for s in input().split(\" \")]\n",
    "    for i in range(1, T + 1):\n",
    "        ans= solution(N,M)\n",
    "        if ans==-1:\n",
    "            break\n",
    "        print('Case #{}: {}'.format(i, ans))\n",
    "\n",
    "def solution(N,M):\n",
    "    primes = [16,9,5,7,11,13,17] ##chines remainder theorem\n",
    "    rec_ls = []\n",
    "    for prime in primes:\n",
    "        print(*[prime]*18) ##this will form a list of 18 same primes, and print out arguement\n",
    "        rec_ls.append(sum([int(s) for s in input().split(\" \")])) ###sum and append\n",
    "        #if rec_ls[-1]==-1:\n",
    "            #return -1\n",
    "    possible_ans = []\n",
    "#    for i,x in enumerate(rec_ls): ##a better way might be zip. \n",
    "#        ls10 = []\n",
    "#        total = x\n",
    "#        while total<=M:\n",
    "#            ls10.append(total)\n",
    "#            total+= primes[i]\n",
    "#        possible_ans.append(ls10)\n",
    "        \n",
    "    for prime,x in zip(primes,rec_ls):\n",
    "        temp_ls = []\n",
    "        total = x\n",
    "        while total<=M:\n",
    "            temp_ls.append(total)\n",
    "            total+=prime\n",
    "        possible_ans.append(temp_ls)\n",
    "    #print(*possible_ans)\n",
    "    comparae_ls = possible_ans[0]\n",
    "    for i in range(1,7):\n",
    "        comparae_ls = intersection(comparae_ls,possible_ans[i])\n",
    "    print(*comparae_ls)\n",
    "    \n",
    "    if input()=='-1':\n",
    "        return -1\n",
    "    \n",
    "def intersection(lst1, lst2): \n",
    "    # Use of hybrid method \n",
    "    temp = set(lst2) \n",
    "    lst3 = [value for value in lst1 if value in temp] \n",
    "    return lst3 \n",
    "\n",
    "main()"
   ]
  },
  {
   "cell_type": "code",
   "execution_count": null,
   "metadata": {},
   "outputs": [],
   "source": [
    "primes = [16,9,5,7,11,13,17]\n",
    "rec_ls = []"
   ]
  },
  {
   "cell_type": "code",
   "execution_count": 10,
   "metadata": {},
   "outputs": [
    {
     "name": "stdout",
     "output_type": "stream",
     "text": [
      "5 5 5\n"
     ]
    }
   ],
   "source": [
    "print(*[5]*3)"
   ]
  },
  {
   "cell_type": "code",
   "execution_count": 12,
   "metadata": {},
   "outputs": [],
   "source": [
    "x=3"
   ]
  },
  {
   "cell_type": "code",
   "execution_count": 17,
   "metadata": {},
   "outputs": [],
   "source": [
    "x*=10\n",
    "x = x *10\n"
   ]
  },
  {
   "cell_type": "code",
   "execution_count": 16,
   "metadata": {},
   "outputs": [
    {
     "data": {
      "text/plain": [
       "130"
      ]
     },
     "execution_count": 16,
     "metadata": {},
     "output_type": "execute_result"
    }
   ],
   "source": [
    "x"
   ]
  },
  {
   "cell_type": "code",
   "execution_count": 21,
   "metadata": {},
   "outputs": [
    {
     "name": "stdout",
     "output_type": "stream",
     "text": [
      "range(10, 100, 5)\n"
     ]
    }
   ],
   "source": [
    "ls = range(10,100,5)\n",
    "print(ls)"
   ]
  },
  {
   "cell_type": "code",
   "execution_count": 23,
   "metadata": {},
   "outputs": [
    {
     "name": "stdout",
     "output_type": "stream",
     "text": [
      "0 10\n",
      "1 15\n",
      "2 20\n",
      "3 25\n",
      "4 30\n",
      "5 35\n",
      "6 40\n",
      "7 45\n",
      "8 50\n",
      "9 55\n",
      "10 60\n",
      "11 65\n",
      "12 70\n",
      "13 75\n",
      "14 80\n",
      "15 85\n",
      "16 90\n",
      "17 95\n"
     ]
    }
   ],
   "source": [
    "for i,x in enumerate(ls):\n",
    "    print(i,x)"
   ]
  },
  {
   "cell_type": "code",
   "execution_count": null,
   "metadata": {},
   "outputs": [],
   "source": []
  }
 ],
 "metadata": {
  "kernelspec": {
   "display_name": "Python 3",
   "language": "python",
   "name": "python3"
  },
  "language_info": {
   "codemirror_mode": {
    "name": "ipython",
    "version": 3
   },
   "file_extension": ".py",
   "mimetype": "text/x-python",
   "name": "python",
   "nbconvert_exporter": "python",
   "pygments_lexer": "ipython3",
   "version": "3.7.1"
  }
 },
 "nbformat": 4,
 "nbformat_minor": 2
}

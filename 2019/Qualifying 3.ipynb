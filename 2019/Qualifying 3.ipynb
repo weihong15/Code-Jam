{
 "cells": [
  {
   "cell_type": "code",
   "execution_count": 28,
   "metadata": {},
   "outputs": [],
   "source": [
    "from math import gcd\n",
    "from string import ascii_uppercase\n",
    "def main():\n",
    "    for i in range(1, int(input()) + 1):\n",
    "        N,L = [int(x) for x in input().split(' ')] #n = upper limit of primes #l = len of ls\n",
    "        ls = [int(x) for x in input().split(' ')]\n",
    "        ans = solution(N,L,ls)\n",
    "        print(\"Case #{}: {}\".format(i, ans))\n",
    "        \n",
    "def solution(n,l,ls):\n",
    "    ls2 = [0]*(l+1)\n",
    "    #we just need 1 value to start off\n",
    "    for i in range(len(ls)):\n",
    "        if ls[i] != ls[i+1]:\n",
    "            ls2[i+1] = gcd(ls[i],ls[i+1])\n",
    "            ls2[i] = ls[i]//ls2[i+1]\n",
    "            break\n",
    "    #populate left and right\n",
    "    for j in range(i-1,-1,-1):\n",
    "        ls2[j] = ls[j]//ls2[j+1]\n",
    "    for j in range(i+2,l+1):\n",
    "        ls2[j] = ls[j-1]//ls2[j-1]\n",
    "    \n",
    "    ##ls3 will be A-Z in numbers\n",
    "    ls3  = sorted(set(ls2))\n",
    "    d ={}\n",
    "    for k,v in zip(ls3,ascii_uppercase):\n",
    "        d[k]=v\n",
    "    s= ''.join([d[x] for x in ls2])\n",
    "    return s\n",
    "    \n",
    "main()"
   ]
  },
  {
   "cell_type": "code",
   "execution_count": null,
   "metadata": {},
   "outputs": [],
   "source": []
  }
 ],
 "metadata": {
  "kernelspec": {
   "display_name": "Python 3",
   "language": "python",
   "name": "python3"
  },
  "language_info": {
   "codemirror_mode": {
    "name": "ipython",
    "version": 3
   },
   "file_extension": ".py",
   "mimetype": "text/x-python",
   "name": "python",
   "nbconvert_exporter": "python",
   "pygments_lexer": "ipython3",
   "version": "3.7.1"
  }
 },
 "nbformat": 4,
 "nbformat_minor": 2
}
